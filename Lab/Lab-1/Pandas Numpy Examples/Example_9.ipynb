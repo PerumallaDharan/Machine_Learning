{
 "cells": [
  {
   "cell_type": "code",
   "execution_count": 1,
   "id": "dedd3244",
   "metadata": {},
   "outputs": [
    {
     "data": {
      "text/plain": [
       "array([[ 4.05707196,  1.98511166, -2.28287841,  1.01736973],\n",
       "       [ 0.50620347,  0.30272953, -0.24813896, -0.01985112],\n",
       "       [-2.66253102, -1.13151365,  1.50124069, -0.67990074],\n",
       "       [ 1.01116625,  0.34491315, -0.44665012,  0.26426799]])"
      ]
     },
     "execution_count": 1,
     "metadata": {},
     "output_type": "execute_result"
    }
   ],
   "source": [
    "##simple python program to find the inverse of an array (without exception handling)\n",
    "import numpy as np\n",
    "arr = np.array([[-1, 2, 0, 4],\n",
    "[4, -0.5, 6, 0],\n",
    "[2.6, 0, 7, 8],\n",
    "[3, -7, 4, 2.0]])\n",
    "inverse = np.linalg.inv(arr)\n",
    "inverse"
   ]
  },
  {
   "cell_type": "code",
   "execution_count": null,
   "id": "65a45ffa",
   "metadata": {},
   "outputs": [],
   "source": []
  }
 ],
 "metadata": {
  "kernelspec": {
   "display_name": "Python 3 (ipykernel)",
   "language": "python",
   "name": "python3"
  },
  "language_info": {
   "codemirror_mode": {
    "name": "ipython",
    "version": 3
   },
   "file_extension": ".py",
   "mimetype": "text/x-python",
   "name": "python",
   "nbconvert_exporter": "python",
   "pygments_lexer": "ipython3",
   "version": "3.11.4"
  }
 },
 "nbformat": 4,
 "nbformat_minor": 5
}

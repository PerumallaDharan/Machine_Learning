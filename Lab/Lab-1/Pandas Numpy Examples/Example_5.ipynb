{
 "cells": [
  {
   "cell_type": "code",
   "execution_count": 1,
   "id": "fad4abdb",
   "metadata": {},
   "outputs": [
    {
     "name": "stdout",
     "output_type": "stream",
     "text": [
      "Adding 1 to every element: [2 3 6 4]\n"
     ]
    }
   ],
   "source": [
    "# Python program to demonstrate\n",
    "# basic operations on single array\n",
    "import numpy as np\n",
    "a = np.array([1, 2, 5, 3])\n",
    "# add 1 to every element\n",
    "print (\"Adding 1 to every element:\", a+1)"
   ]
  },
  {
   "cell_type": "code",
   "execution_count": 2,
   "id": "69a030e8",
   "metadata": {},
   "outputs": [
    {
     "name": "stdout",
     "output_type": "stream",
     "text": [
      "Subtracting 3 from each element: [-2 -1  2  0]\n"
     ]
    }
   ],
   "source": [
    "# subtract 3 from each element\n",
    "print (\"Subtracting 3 from each element:\", a-3)"
   ]
  },
  {
   "cell_type": "code",
   "execution_count": 3,
   "id": "6107c31e",
   "metadata": {},
   "outputs": [
    {
     "name": "stdout",
     "output_type": "stream",
     "text": [
      "Multiplying each element by 10: [10 20 50 30]\n"
     ]
    }
   ],
   "source": [
    "# multiply each element by 10\n",
    "print (\"Multiplying each element by 10:\", a*10)"
   ]
  },
  {
   "cell_type": "code",
   "execution_count": 4,
   "id": "bdfc792d",
   "metadata": {},
   "outputs": [
    {
     "name": "stdout",
     "output_type": "stream",
     "text": [
      "Squaring each element: [ 1  4 25  9]\n"
     ]
    }
   ],
   "source": [
    "# square each element\n",
    "print (\"Squaring each element:\", a**2)"
   ]
  },
  {
   "cell_type": "code",
   "execution_count": 5,
   "id": "db7a3a6b",
   "metadata": {},
   "outputs": [
    {
     "name": "stdout",
     "output_type": "stream",
     "text": [
      "Doubled each element of original array: [ 2  4 10  6]\n"
     ]
    }
   ],
   "source": [
    "# modify existing array\n",
    "a *= 2\n",
    "print (\"Doubled each element of original array:\", a)"
   ]
  },
  {
   "cell_type": "code",
   "execution_count": 7,
   "id": "7e0ed468",
   "metadata": {},
   "outputs": [
    {
     "name": "stdout",
     "output_type": "stream",
     "text": [
      "\n",
      "Original array:\n",
      " [[1 2 3]\n",
      " [3 4 5]\n",
      " [9 6 0]]\n",
      "Transpose of array:\n",
      " [[1 3 9]\n",
      " [2 4 6]\n",
      " [3 5 0]]\n"
     ]
    }
   ],
   "source": [
    "# transpose of array\n",
    "a = np.array([[1, 2, 3], [3, 4, 5], [9, 6, 0]])\n",
    "print (\"\\nOriginal array:\\n\", a)\n",
    "print (\"Transpose of array:\\n\", a.T)"
   ]
  },
  {
   "cell_type": "code",
   "execution_count": null,
   "id": "a18cea42",
   "metadata": {},
   "outputs": [],
   "source": []
  }
 ],
 "metadata": {
  "kernelspec": {
   "display_name": "Python 3 (ipykernel)",
   "language": "python",
   "name": "python3"
  },
  "language_info": {
   "codemirror_mode": {
    "name": "ipython",
    "version": 3
   },
   "file_extension": ".py",
   "mimetype": "text/x-python",
   "name": "python",
   "nbconvert_exporter": "python",
   "pygments_lexer": "ipython3",
   "version": "3.11.4"
  }
 },
 "nbformat": 4,
 "nbformat_minor": 5
}
